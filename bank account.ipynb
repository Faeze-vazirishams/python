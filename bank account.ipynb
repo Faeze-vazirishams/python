{
 "cells": [
  {
   "cell_type": "code",
   "execution_count": 1,
   "metadata": {},
   "outputs": [],
   "source": [
    "#Bank Account Class\n",
    "\n",
    "class Account:\n",
    "    def __init__(self,number:int,balance:int|float):\n",
    "       self.number=number\n",
    "       self.balance=balance\n",
    "       self.transaction=[]\n",
    "    def deposit(self,amount):\n",
    "        self.balance+=amount\n",
    "        self.transactions.append(amount)\n",
    "    def withdraw(self,amount):\n",
    "        if self.balance>=amount:\n",
    "            self.balance-=amount\n",
    "            self._transactions.append(-amount)\n",
    "        else:\n",
    "            raise ValueError('Not enough balance')\n",
    "    def show_balance(self):\n",
    "        return self.balance\n",
    "    def _str_(self):\n",
    "        return f'{self.number}:{self.balance: .2f}'\n",
    "  "
   ]
  },
  {
   "cell_type": "code",
   "execution_count": 2,
   "metadata": {},
   "outputs": [],
   "source": [
    "#Current Account Class\n",
    "class CheckingAccount(Account):\n",
    "    min_amount=100000\n",
    "    def __init__(self,number:int,balance:int|float):\n",
    "        super(). __init__(number,balance)\n",
    "        if balance<self.min_amount:\n",
    "            raise ValueError('balance is lower than minimum')\n",
    "    def __str__(self):\n",
    "        return f'Checking Account , number:{self.number},balance;{self.balance: .2f}'"
   ]
  },
  {
   "cell_type": "code",
   "execution_count": 3,
   "metadata": {},
   "outputs": [],
   "source": [
    "#Saving Account Class\n",
    "class SavingAccount(Account):\n",
    "    def __init__(self,number:int,balance:int|float):\n",
    "       super(). __init__(number,balance)\n",
    "    def dep_with_ratio(self):\n",
    "        deposits=0\n",
    "        withdraws=0\n",
    "        for transaction in self._transactions:\n",
    "            if transaction>0:\n",
    "                deposits+=transaction\n",
    "            else:withdraw+=transaction\n",
    "            if withdraws !=0:\n",
    "                return abs(deposits/withdraws)\n",
    "            else:\n",
    "                return 0"
   ]
  },
  {
   "cell_type": "code",
   "execution_count": 4,
   "metadata": {},
   "outputs": [],
   "source": [
    "#Currency Account Class\n",
    "class CurrencyAccount(Account):\n",
    "    def __init__(self,number,balance):\n",
    "        super(). __init__(number,balance)\n",
    "    @staticmethod\n",
    "    def exchange(amount:int|float,usd:int|float):\n",
    "        return amount/sud\n",
    "    def exchange_transactions(self,usd):\n",
    "        exchanged_transactions=list()\n",
    "        for trans in self._transactions:\n",
    "            exchanged_transactions.append(trans/usd)\n",
    "        return exchanged_transactions\n",
    "        "
   ]
  },
  {
   "cell_type": "code",
   "execution_count": 5,
   "metadata": {},
   "outputs": [],
   "source": [
    "class Costumer:\n",
    "    def __init__(self, name:str, ssn:int, acc_type:str):\n",
    "        self.name=name\n",
    "        self.ssn=ssn\n",
    "        if acc_type in('B','S','C'):\n",
    "            self.acc_type=acc_type\n",
    "        else:\n",
    "            raise ValueError('Account type is not defined')  \n",
    "        self.account=None\n",
    "\n",
    "\n",
    "    def creat_checking(self, number, amount):\n",
    "        self.account = CheckingAccount (number, amount)\n",
    "\n",
    "    def creat_saving (self, number, amount):\n",
    "        self.account = SaveingAccount (number, amount)\n",
    "\n",
    "    def creat_currency (self, number, amount):\n",
    "        self.account = CurrentAccount (number, amount)\n",
    "\n",
    "    def show_balance (self):\n",
    "        return self.account.show_balance()\n",
    "\n",
    "    def make_deposit (self,amount):\n",
    "        self.account.deposit(amount)  \n",
    "\n",
    "    def make_withdraw(self,amount): \n",
    "        self.account.withdraw(amount)\n",
    "\n",
    "    def make_transfer(self,other,amount):\n",
    "        self.account.withdraw(amount)\n",
    "        other.account.deposit(amount)\n",
    "        \n",
    "        return f'Source account:{self.show_balance()}\\nTarget account:{other.show_balance()}'\n"
   ]
  }
 ],
 "metadata": {
  "kernelspec": {
   "display_name": "Python 3",
   "language": "python",
   "name": "python3"
  },
  "language_info": {
   "codemirror_mode": {
    "name": "ipython",
    "version": 3
   },
   "file_extension": ".py",
   "mimetype": "text/x-python",
   "name": "python",
   "nbconvert_exporter": "python",
   "pygments_lexer": "ipython3",
   "version": "3.12.1"
  }
 },
 "nbformat": 4,
 "nbformat_minor": 2
}
